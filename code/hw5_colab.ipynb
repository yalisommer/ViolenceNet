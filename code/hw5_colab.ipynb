{
  "cells": [
    {
      "cell_type": "markdown",
      "metadata": {
        "id": "mtvt9ICj-Pzd"
      },
      "source": [
        "# **Homework 5: Convolutional Neural Networks**\n",
        "\n",
        "---"
      ]
    },
    {
      "cell_type": "markdown",
      "metadata": {
        "id": "8T5_FovLIMrj"
      },
      "source": [
        "## **Setup**"
      ]
    },
    {
      "cell_type": "markdown",
      "metadata": {
        "id": "neOh6Aqppzoz"
      },
      "source": [
        "### **Change Colab's Runtime**\n",
        "\n",
        "Colab provides machine instances in the cloud. We will use Colab to speed up training times via its GPUs.\n",
        "By default, Colab instances do not use GPUs. So, we must first enable GPU support.\n",
        "\n",
        "1. Click the \"Runtime\" menu above\n",
        "2. Click \"Change runtime type\"\n",
        "3. Select \"GPU\" under \"Hardware accelerator\"\n",
        "4. Click Save"
      ]
    },
    {
      "cell_type": "markdown",
      "metadata": {
        "id": "blqZxMe3kSU_"
      },
      "source": [
        "## **Linking Github and Google Colab**\n",
        "\n",
        "We're going to create a public/private key pair to allow Colab to access your Github.\n",
        "\n",
        "1. Make sure your latest code is pushed to github.com\n",
        "2. Run the cell below by clicking the 'Play' button to the top left.\n",
        "  *   Google Colab will start a machine instance in the cloud (top right of Colab under 'Share')\n",
        "  *   When the script asks for the location, click the flashing cursor and press enter\n",
        "  *   Leave the password field blank"
      ]
    },
    {
      "cell_type": "code",
      "execution_count": null,
      "metadata": {
        "id": "I1nTcPUxcz36"
      },
      "outputs": [],
      "source": [
        "!ssh-keygen -t rsa\n",
        "!ssh-keyscan -t rsa github.com >> ~/.ssh/known_hosts\n",
        "!clear\n",
        "!echo \"PUBLIC KEY: (for github.com)\"\n",
        "!cat /root/.ssh/id_rsa.pub"
      ]
    },
    {
      "cell_type": "markdown",
      "metadata": {
        "id": "Y8XJeOF6ihxs"
      },
      "source": [
        "Follow these steps before proceeding:\n",
        "\n",
        "1. Go to https://github.com/settings/keys and login if necessary\n",
        "2. Click the green \"New SSH Key\" button\n",
        "3. Choose any title\n",
        "4. From the cell above in this Colab notebook, copy the public key. It looks like \"ssh-rsa xxxxx\", is very long, and should be the last line.\n",
        "5. Paste the key into the \"key\" text box and click \"Add SSH key\"\n",
        "6. Below, replace **[GITHUBUSERNAME]** with your GitHub username.\n",
        "7. Run the cell."
      ]
    },
    {
      "cell_type": "code",
      "execution_count": null,
      "metadata": {
        "id": "Ia2CRSzTObA3"
      },
      "outputs": [],
      "source": [
        "!git clone git@github.com:BrownCSCI1430/homework5_cnns-[GITHUBUSERNAME].git\n",
        "%cd homework5_cnns-[GITHUBUSERNAME]\n",
        "!git config --global user.email \"colab_bot@brown.edu\"\n",
        "!git config --global user.name \"Colab Bot\""
      ]
    },
    {
      "cell_type": "markdown",
      "metadata": {
        "id": "yb1ead5oTA4j"
      },
      "source": [
        "Next, note the left-hand side bar.\n",
        "Find and click on the \"Files\" button on the left; it looks like a file divider. Now, you should be able to see your homework5_cnn folder."
      ]
    },
    {
      "cell_type": "markdown",
      "metadata": {
        "id": "d6LZuGXHR_A6"
      },
      "source": [
        "## **Editing Your Code**\n",
        "\n",
        "Your code on Colab must be pushed back to Github to reflect changes. Thus, we recommend changing your code and tuning parameters **either locally or on Colab, but not both simultaneously**.\n",
        "This will help avoid merge conflicts, which will happen when you make changes without ensuring that you have an up-to-date copy of the code.\n",
        "\n",
        "#### Workflow 1\n",
        "\n",
        "1. Make change locally in `vscode`\n",
        "2. git commit+push to Github in your terminal\n",
        "3. git pull from Github into the Colab copy of your project\n",
        "4. Execute code in Colab\n",
        "\n",
        "#### Workflow 2\n",
        "\n",
        "1. Make changes to your project files on Colab\n",
        "2. git commit+push to Github using Colab cells\n",
        "3. git pull from Github into your local directory on your laptop filesystem\n",
        "4. Edit in `vscode`"
      ]
    },
    {
      "cell_type": "markdown",
      "metadata": {
        "id": "MMgVf5msR_A6"
      },
      "source": [
        "### **Workflow 1: Making changes locally**\n",
        "\n",
        "If you choose to change your files locally, **DO NOT repeatedly clone the repo**. Once you pushed from local terminal, you can update your code on colab using the following command."
      ]
    },
    {
      "cell_type": "code",
      "execution_count": null,
      "metadata": {
        "id": "EycXfFp1R_A6"
      },
      "outputs": [],
      "source": [
        "!git pull"
      ]
    },
    {
      "cell_type": "markdown",
      "metadata": {
        "id": "NEsQpamvR_A7"
      },
      "source": [
        "### **Workflow 2: Making changes on Colab**"
      ]
    },
    {
      "cell_type": "markdown",
      "metadata": {
        "id": "q0ka-a6HR_A7"
      },
      "source": [
        "If you choose to change your files on Colab, you can access them from the files section of the left sidebar. You may double click on the file you wish to edit and open it on colab.\n",
        "\n",
        "<img src=\"colab_workflow.png\" alt=\"colab folder\" width=\"80%\">"
      ]
    },
    {
      "cell_type": "markdown",
      "metadata": {
        "id": "Sn28-QpnR_A7"
      },
      "source": [
        "You can use the following commands to push your code changes to github from colab:"
      ]
    },
    {
      "cell_type": "code",
      "execution_count": null,
      "metadata": {
        "id": "UZcbQb0DR_A7"
      },
      "outputs": [],
      "source": [
        "!git add code/*\n",
        "!git commit -m \"updating code from colab!\"\n",
        "!git push"
      ]
    },
    {
      "cell_type": "markdown",
      "metadata": {
        "id": "qtdqxGYWR_A7"
      },
      "source": [
        "### **Installation**"
      ]
    },
    {
      "cell_type": "markdown",
      "metadata": {
        "id": "mL-K_D6HR_A7"
      },
      "source": [
        "We can now install and import the necessary components."
      ]
    },
    {
      "cell_type": "code",
      "execution_count": null,
      "metadata": {
        "id": "O1jkvao_L68C"
      },
      "outputs": [],
      "source": [
        "%pip install lime"
      ]
    },
    {
      "cell_type": "code",
      "execution_count": null,
      "metadata": {
        "id": "85EGz_FZH434"
      },
      "outputs": [],
      "source": [
        "import tensorflow as tf\n",
        "from tensorflow.keras.layers import \\\n",
        "    Conv2D, MaxPool2D, Dropout, Flatten, Dense\n",
        "import matplotlib.pyplot as plt\n",
        "from skimage.io import imread"
      ]
    },
    {
      "cell_type": "markdown",
      "metadata": {
        "id": "mvfht1-w-35H"
      },
      "source": [
        "Next, we can download the weights for the VGG model."
      ]
    },
    {
      "cell_type": "code",
      "execution_count": null,
      "metadata": {
        "id": "k5rkcA4eDD9o"
      },
      "outputs": [],
      "source": [
        "!wget \"https://browncsci1430.github.io/hw5_cnns/vgg16_imagenet.weights.h5\""
      ]
    },
    {
      "cell_type": "markdown",
      "metadata": {
        "id": "2hASqy75_Sk7"
      },
      "source": [
        "## **Run your model**"
      ]
    },
    {
      "cell_type": "markdown",
      "metadata": {
        "id": "7h8sTZatR_A7"
      },
      "source": [
        "First, navigate to `code` folder."
      ]
    },
    {
      "cell_type": "code",
      "execution_count": null,
      "metadata": {
        "id": "RF1J5KDdTMHX"
      },
      "outputs": [],
      "source": [
        "%cd code"
      ]
    },
    {
      "cell_type": "markdown",
      "metadata": {
        "id": "rH43pgcDR_A7"
      },
      "source": [
        "Use the provided `main.py` to train and test your models. The provided `argparse` will automatically log and checkpoint your models in newly created `logs/`, `checkpoints/your_model` and `checkpoints/vgg_model` directories. Run the following command to see all available command line arguments.  "
      ]
    },
    {
      "cell_type": "code",
      "execution_count": null,
      "metadata": {
        "id": "wQAu7WnaR_A8"
      },
      "outputs": [],
      "source": [
        "!python main.py -h"
      ]
    },
    {
      "cell_type": "markdown",
      "metadata": {
        "id": "9ZpIwCwxR_A8"
      },
      "source": [
        "### **Running the tasks**"
      ]
    },
    {
      "cell_type": "markdown",
      "metadata": {
        "id": "TCNrNsw-R_A8"
      },
      "source": [
        "#### **Task 1 and 3**"
      ]
    },
    {
      "cell_type": "markdown",
      "metadata": {
        "id": "ayfihZsqR_A8"
      },
      "source": [
        "The following section uses task 1 as an example. You should be able to run task 3 by replacing `task 1` with `task 3`, and `your_model` with `vgg_model` in the following section.\n",
        "\n",
        "Use the following command to run a task."
      ]
    },
    {
      "cell_type": "code",
      "execution_count": null,
      "metadata": {
        "id": "aE8BEyNf_jzL"
      },
      "outputs": [],
      "source": [
        "!python main.py --task 1"
      ]
    },
    {
      "cell_type": "markdown",
      "metadata": {
        "id": "KvlbuHbMR_A8"
      },
      "source": [
        "**Choosing a checkpoint**"
      ]
    },
    {
      "cell_type": "markdown",
      "metadata": {
        "id": "MieUEyQdR_A8"
      },
      "source": [
        "You can load from a specific checkpoint if your current model architecture is the **same** as your model at that checkpoint.\n",
        "\n",
        "View your checkpoints timestamps and pick one from the list below. The last folder in the list contains your latest training results."
      ]
    },
    {
      "cell_type": "code",
      "execution_count": null,
      "metadata": {
        "id": "9IVTfEzZR_A8"
      },
      "outputs": [],
      "source": [
        "%ls checkpoints/your_model"
      ]
    },
    {
      "cell_type": "markdown",
      "metadata": {
        "id": "jIPSDL4NR_A8"
      },
      "source": [
        "Replace [TIMESTAMP] below with the checkpoint timestamp you've chosen to get a list of model weights."
      ]
    },
    {
      "cell_type": "code",
      "execution_count": null,
      "metadata": {
        "id": "0XqOq4hIR_A8"
      },
      "outputs": [],
      "source": [
        "# TODO: replace [TIMESTAMP] with the timestamp you choose from the last step\n",
        "%ls checkpoints/your_model/[TIMESTAMP]"
      ]
    },
    {
      "cell_type": "markdown",
      "metadata": {
        "id": "Y9Ao-wNMR_A8"
      },
      "source": [
        "Choose a model from the list above and replace [TIMESTAMP]/[MODEL_FILENAME] with your timestamp and checkpoint file. The last file contains your latest training weights. If you want, you can use the following command to continue training the model with specific weights."
      ]
    },
    {
      "cell_type": "code",
      "execution_count": null,
      "metadata": {
        "id": "mbf_MSkpR_A8"
      },
      "outputs": [],
      "source": [
        "# TODO: replace [TIMESTAMP][MODEL_FILENAME] with the a timestamp from above list\n",
        "!python main.py --task 1 --load-checkpoint checkpoints/your_model/<TIMESTAMP>/<MODEL_FILENAME>.weights.h5"
      ]
    },
    {
      "cell_type": "markdown",
      "metadata": {
        "id": "EuBtiLTSR_A8"
      },
      "source": [
        "**Testing your model**"
      ]
    },
    {
      "cell_type": "markdown",
      "metadata": {
        "id": "nei4Dwb3R_A8"
      },
      "source": [
        "Run the following command to evaluate your model. Follow the \"choosing your model\" section to replace [TIMESTAMP][MODEL_FILENAME]."
      ]
    },
    {
      "cell_type": "code",
      "execution_count": null,
      "metadata": {
        "id": "fUZHoSvUIeTt"
      },
      "outputs": [],
      "source": [
        "# TODO: replace [TIMESTAMP][MODEL_FILENAME] with the a checkpoint\n",
        "!python main.py --task 1 --load-checkpoint checkpoints/your_model/[TIMESTAMP]/[MODEL_FILENAME].weights.h5 --evaluate"
      ]
    },
    {
      "cell_type": "markdown",
      "metadata": {
        "id": "ddBRF-2XR_BB"
      },
      "source": [
        "#### **Task 2**"
      ]
    },
    {
      "cell_type": "markdown",
      "metadata": {
        "id": "IBOR9JZM2Tej"
      },
      "source": [
        "\n",
        "**View Tensorboard Logs**\n",
        "\n",
        "- **Scalars** show how the loss and metrics change with every epoch. You can use them to also track training speed, learning rate, and other scalar values. Scalars can be found in the **Time Series** or **Scalars** dashboards.\n",
        "- **Graphs** help you visualize your model. In this case, the Keras graph of layers is shown which can help you ensure it is built correctly. Graphs can be found in the **Graphs** dashboard.\n",
        "- **Histograms** and **Distributions** show the distribution of a Tensor over time. This can be useful to visualize weights and biases and verify that they are changing in an expected way. Histograms can be found in the **Time Series** or **Histograms** dashboards. Distributions can be found in the **Distributions** dashboard.\n"
      ]
    },
    {
      "cell_type": "code",
      "execution_count": null,
      "metadata": {
        "id": "Wt1-9hiB2XZU"
      },
      "outputs": [],
      "source": [
        "%load_ext tensorboard\n",
        "%tensorboard --logdir logs"
      ]
    },
    {
      "cell_type": "markdown",
      "metadata": {
        "id": "UgspF9W_R_BC"
      },
      "source": [
        "**Lime Interpreter**"
      ]
    },
    {
      "cell_type": "markdown",
      "metadata": {
        "id": "vUDxmxcHstIM"
      },
      "source": [
        "Choose an image your model falsely classified and add it to the end of the command below (replace misclassified/your_model/Bedroom/Store_predicted.png with the path to your image)\n",
        "\n",
        "\n",
        "**Where to find misclassified images?**\n",
        "- Under your code folder, find folder **misclassfied**. In the folder you can look for the misclassifed images in their groundtruth category folder, with their names explaining what they are misclassified as. Pick an example you like."
      ]
    },
    {
      "cell_type": "code",
      "execution_count": null,
      "metadata": {
        "id": "vk-mNdSXIrnF"
      },
      "outputs": [],
      "source": [
        "# TODO: replace the image path with the falsely classified image name\n",
        "# TODO: replace [TIMESTAMP][MODEL_FILENAME] with the a checkpoint\n",
        "!python main.py --task 1 --load-checkpoint checkpoints/your_model/[TIMESTAMP]/[MODEL_FILENAME].weights.h5 --evaluate --lime-image misclassified/your_model/Bedroom/Store_predicted.png"
      ]
    },
    {
      "cell_type": "markdown",
      "metadata": {
        "id": "tHXw7vD8R_BC"
      },
      "source": [
        "**[Optional] Display Lime Interpreter Images**"
      ]
    },
    {
      "cell_type": "code",
      "execution_count": null,
      "metadata": {
        "id": "enrNzg40R_BC"
      },
      "outputs": [],
      "source": [
        "# In order to see the images, replace <TIMESTAMP> with your own timestamp\n",
        "for i in range(4):\n",
        "  plot_img = imread('lime_explainer_images/[TIMESTAMP]/' + str(i) + '.png')\n",
        "  plt.imshow(plot_img)\n",
        "  plt.show()"
      ]
    }
  ],
  "metadata": {
    "accelerator": "GPU",
    "colab": {
      "provenance": []
    },
    "gpuClass": "standard",
    "kernelspec": {
      "display_name": "Python 3.9.13 64-bit",
      "language": "python",
      "name": "python3"
    },
    "language_info": {
      "name": "python",
      "version": "3.9.10"
    },
    "vscode": {
      "interpreter": {
        "hash": "aee8b7b246df8f9039afb4144a1f6fd8d2ca17a180786b69acc140d282b71a49"
      }
    }
  },
  "nbformat": 4,
  "nbformat_minor": 0
}
